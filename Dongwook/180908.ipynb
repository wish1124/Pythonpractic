{
 "cells": [
  {
   "cell_type": "code",
   "execution_count": 9,
   "metadata": {},
   "outputs": [
    {
     "name": "stdout",
     "output_type": "stream",
     "text": [
      "['i', 'l', 'o', 'v', 'e', 'y', 'o', 'u']\n"
     ]
    }
   ],
   "source": [
    "def solution(my_string, is_suffix):\n",
    "    answer = 0\n",
    "    for i in range(len(my_string)):\n",
    "        empty = my_string[i:]\n",
    "        if empty == is_suffix:\n",
    "            return 1\n",
    "    return 0\n",
    "\n",
    "    ## 180908 "
   ]
  }
 ],
 "metadata": {
  "kernelspec": {
   "display_name": "dw",
   "language": "python",
   "name": "python3"
  },
  "language_info": {
   "codemirror_mode": {
    "name": "ipython",
    "version": 3
   },
   "file_extension": ".py",
   "mimetype": "text/x-python",
   "name": "python",
   "nbconvert_exporter": "python",
   "pygments_lexer": "ipython3",
   "version": "3.11.11"
  }
 },
 "nbformat": 4,
 "nbformat_minor": 2
}
